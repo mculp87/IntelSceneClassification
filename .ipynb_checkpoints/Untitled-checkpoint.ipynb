{
 "cells": [
  {
   "cell_type": "code",
   "execution_count": 1,
   "metadata": {},
   "outputs": [],
   "source": [
    "import numpy as np\n",
    "import sys\n",
    "from torchvision import models"
   ]
  },
  {
   "cell_type": "code",
   "execution_count": 30,
   "metadata": {},
   "outputs": [],
   "source": [
    "class A(type):    \n",
    "    def __new__(cls, name, bases, dct):\n",
    "        return super().__new__(cls, name, bases, dct)\n",
    "    \n",
    "\n",
    "class B(metaclass=A):  \n",
    "#     pass\n",
    "    b = []\n",
    "    def __init__(self, bias):\n",
    "        self.b.append(bias)\n",
    "        print(\"Initialized B.\")\n",
    "    \n",
    "    def bar(self):\n",
    "        print(self.b)\n",
    "\n",
    "class C(B):\n",
    "    def __init__(self, bias):\n",
    "        self.c = bias\n",
    "        super().__init__(2*bias)\n",
    "        print(self.c)\n",
    "        print(\"Initialized C.\")"
   ]
  },
  {
   "cell_type": "code",
   "execution_count": 31,
   "metadata": {},
   "outputs": [
    {
     "name": "stdout",
     "output_type": "stream",
     "text": [
      "Initialized B.\n",
      "1\n",
      "Initialized B.\n",
      "2\n",
      "Initialized C.\n",
      "Initialized B.\n",
      "3\n",
      "Initialized C.\n",
      "1\n",
      "4\n",
      "6\n"
     ]
    }
   ],
   "source": [
    "b = B(1)\n",
    "b.bar()\n",
    "c = C(2)\n",
    "d = C(3)\n",
    "b.bar()\n",
    "c.bar()\n",
    "d.bar()"
   ]
  },
  {
   "cell_type": "code",
   "execution_count": null,
   "metadata": {},
   "outputs": [],
   "source": [
    "class Person:\n",
    "\n",
    "    def __new__(cls, *args, **kwargs):\n",
    "        return super().__new__(cls)\n",
    "\n",
    "    def __init__(self, a):\n",
    "        self.instance_method()\n",
    "\n",
    "    def instance_method(self):\n",
    "        print('success!')\n",
    "\n",
    "personObj = Person(1)"
   ]
  },
  {
   "cell_type": "code",
   "execution_count": null,
   "metadata": {},
   "outputs": [],
   "source": [
    "copyaxis = list(axis) if isinstance(axis, tuple) else [axis]\n",
    "workaxis = list([n for n in np.arange(len(E.shape)) if n not in copyaxis])\n",
    "print(copyaxis)\n",
    "print(workaxis)\n",
    "print(type(E.shape))\n",
    "copyshape = np.array(E.shape)[copyaxis]\n",
    "print(copyshape)\n",
    "workshape = np.array(E.shape)[workaxis]\n",
    "print(workshape)\n",
    "tempshape = np.concatenate([workshape, copyshape])\n",
    "print(copyshape)\n",
    "randMat = np.random.random(workshape)\n",
    "print(randMat.shape)"
   ]
  },
  {
   "cell_type": "code",
   "execution_count": null,
   "metadata": {},
   "outputs": [],
   "source": [
    "F = np.repeat(randMat, np.prod(copyshape)).reshape(tempshape)\n",
    "print(F.shape)\n",
    "print(np.arange(len(workshape), len(F.shape)))\n",
    "G = np.moveaxis(F, source=np.arange(len(workshape), len(F.shape)), destination=axis)\n",
    "print(G.shape)"
   ]
  },
  {
   "cell_type": "code",
   "execution_count": null,
   "metadata": {},
   "outputs": [],
   "source": [
    "print(total_size(a))\n",
    "print(total_size(b))\n",
    "print(total_size(c))\n",
    "print(total_size(d))\n"
   ]
  },
  {
   "cell_type": "code",
   "execution_count": null,
   "metadata": {},
   "outputs": [],
   "source": [
    "D = B.copy()\n",
    "print(D)\n",
    "np.logical_and(D, C, out=D, dtype=np.float32, casting=\"unsafe\")\n",
    "print(D)"
   ]
  },
  {
   "cell_type": "code",
   "execution_count": null,
   "metadata": {},
   "outputs": [],
   "source": [
    "np.random.normal(0,0.0,B.shape)"
   ]
  },
  {
   "cell_type": "code",
   "execution_count": null,
   "metadata": {},
   "outputs": [],
   "source": [
    "print(np.linalg.norm(B, ord=2, axis=0).shape)"
   ]
  },
  {
   "cell_type": "code",
   "execution_count": null,
   "metadata": {},
   "outputs": [],
   "source": [
    "a = np.arange(5)\n",
    "print(a)\n",
    "print(np.cumsum(a))\n",
    "print(np.diff(a))"
   ]
  },
  {
   "cell_type": "code",
   "execution_count": null,
   "metadata": {},
   "outputs": [],
   "source": [
    "axis = (0,1)\n",
    "mean = 0.05\n",
    "size = E.shape\n",
    "copyaxis = list(axis) if isinstance(axis, tuple) else [axis]\n",
    "print(copyaxis)\n",
    "workaxis = list([n for n in np.arange(len(size)) if n not in copyaxis])\n",
    "print(workaxis)"
   ]
  },
  {
   "cell_type": "code",
   "execution_count": null,
   "metadata": {},
   "outputs": [],
   "source": [
    "print(size)\n",
    "copyshape = np.array(size)[copyaxis]\n",
    "print(copyshape)\n",
    "workshape = np.array(size)[workaxis]\n",
    "print(workshape)\n",
    "tempshape = np.concatenate([workshape, copyshape])\n",
    "print(tempshape)"
   ]
  },
  {
   "cell_type": "code",
   "execution_count": null,
   "metadata": {},
   "outputs": [],
   "source": [
    "F = np.repeat(np.random.binomial(1, 1 - mean, workshape)).reshape(tempshape)\n",
    "np.moveaxis(F, source=np.arange(len(workshape), len(F.shape)), destination=axis)"
   ]
  },
  {
   "cell_type": "code",
   "execution_count": null,
   "metadata": {},
   "outputs": [],
   "source": [
    "dct = {\n",
    "    \"unit\": np.random.random((5,5)),\n",
    "    \"normal\": np.random.normal(0,1,(5,5))\n",
    "}\n",
    "[print(dist) for dist in dct.values()]"
   ]
  },
  {
   "cell_type": "code",
   "execution_count": null,
   "metadata": {},
   "outputs": [],
   "source": [
    "np.savez_compressed('test.npz', **dct)"
   ]
  },
  {
   "cell_type": "code",
   "execution_count": null,
   "metadata": {},
   "outputs": [],
   "source": [
    "loaded = np.load('test.npz')\n",
    "[print(k) for k in loaded.keys()]"
   ]
  },
  {
   "cell_type": "code",
   "execution_count": null,
   "metadata": {},
   "outputs": [],
   "source": [
    "print(type(loaded[\"unit\"]))\n",
    "print(loaded[\"unit\"])"
   ]
  },
  {
   "cell_type": "code",
   "execution_count": null,
   "metadata": {},
   "outputs": [],
   "source": [
    "print(type(loaded))"
   ]
  },
  {
   "cell_type": "code",
   "execution_count": null,
   "metadata": {},
   "outputs": [],
   "source": [
    "print"
   ]
  },
  {
   "cell_type": "code",
   "execution_count": null,
   "metadata": {},
   "outputs": [],
   "source": [
    "Cprob = {k: conf / np.sum(conf, axis=0)}"
   ]
  },
  {
   "cell_type": "code",
   "execution_count": null,
   "metadata": {},
   "outputs": [],
   "source": [
    "model = models.resnet50(pretrained=True)"
   ]
  },
  {
   "cell_type": "code",
   "execution_count": null,
   "metadata": {},
   "outputs": [],
   "source": [
    "print(model)"
   ]
  },
  {
   "cell_type": "code",
   "execution_count": null,
   "metadata": {},
   "outputs": [],
   "source": [
    "size = (5,3,4,4)\n",
    "mean = 0.05\n",
    "axis = None\n",
    "if axis is None:\n",
    "    epsilon = np.random.binomial(1, 1 - mean, size).astype(np.uint8)\n",
    "else:\n",
    "    copyaxis = list(self.axis) if isinstance(self.axis, tuple) else [self.axis]\n",
    "    workaxis = list([n for n in np.arange(len(self.size)) if n not in copyaxis] + (-1,))\n",
    "\n",
    "    copyshape = np.array(self.size, dtype=np.uint)[copyaxis]\n",
    "    workshape = np.concatenate([np.array(self.size, dtype=np.uint)[workaxis], 8])\n",
    "    tempshape = np.concatenate([workshape, copyshape])\n",
    "    print(copyshape)\n",
    "\n",
    "    eps = np.random.binomial(1, 1.0- self.mean, tuple(workshape)).astype(np.bool)\n",
    "    eps = np.repeat(eps, np.prod(copyshape)).reshape(tempshape)\n",
    "    # print(np.arange(len(tempshape))[slice(-len(copyshape),None)])\n",
    "    self.epsilon = np.moveaxis(eps,\n",
    "                source=tuple(np.arange(len(tempshape))[slice(-len(copyshape),None)]),\n",
    "                destination=self.axis)\n",
    "print(epsilon)"
   ]
  },
  {
   "cell_type": "code",
   "execution_count": null,
   "metadata": {},
   "outputs": [],
   "source": [
    "print(np.binary_rep(epsilon))"
   ]
  },
  {
   "cell_type": "code",
   "execution_count": null,
   "metadata": {},
   "outputs": [],
   "source": [
    "A = np.random.binomial(1, 0.95, (100,8))\n",
    "b = np.power(2, np.arange(8))\n",
    "print(A.shape)\n",
    "print(b.shape)\n",
    "print(np.dot(A,b))"
   ]
  },
  {
   "cell_type": "code",
   "execution_count": null,
   "metadata": {},
   "outputs": [],
   "source": [
    "E = np.random.binomial(1, 0.05, (5,3,4,4,8))\n",
    "F = np.einsum('...k,k->...', E, b).astype(np.uint8)\n",
    "print(F.shape)\n",
    "print(F[0,...])"
   ]
  },
  {
   "cell_type": "code",
   "execution_count": null,
   "metadata": {},
   "outputs": [],
   "source": [
    "A = np.random.randint(0,255,(5,3,4,4),dtype=np.uint8)\n",
    "print(A[0,...])\n"
   ]
  },
  {
   "cell_type": "code",
   "execution_count": null,
   "metadata": {},
   "outputs": [],
   "source": [
    "AorF = np.bitwise_xor(A, F)\n",
    "print(AorF[0,...])"
   ]
  },
  {
   "cell_type": "code",
   "execution_count": null,
   "metadata": {},
   "outputs": [],
   "source": [
    "\n",
    "import matplotlib.pyplot as plt\n",
    "from sklearn.datasets import load_digits\n",
    "digits = load_digits().data.reshape(-1, 8, 8).astype(np.uint8)\n",
    "print(digits.shape)"
   ]
  },
  {
   "cell_type": "code",
   "execution_count": null,
   "metadata": {},
   "outputs": [],
   "source": [
    "epsilon = np.einsum('...k,k->...',\n",
    "                    np.random.binomial(1, 0.001, digits.shape + (8,)),\n",
    "                    b).astype(np.uint8)\n",
    "print(epsilon[0,...])\n",
    "print(digits[0,...])"
   ]
  },
  {
   "cell_type": "code",
   "execution_count": null,
   "metadata": {},
   "outputs": [],
   "source": [
    "tdigits = np.bitwise_xor(digits, epsilon)"
   ]
  },
  {
   "cell_type": "code",
   "execution_count": null,
   "metadata": {},
   "outputs": [],
   "source": [
    "for i in range(5):\n",
    "    plt.subplot(1,3,1)\n",
    "    plt.imshow(digits[i,...])\n",
    "    plt.clim(0,255)\n",
    "    plt.subplot(1,3,2)\n",
    "    plt.imshow(tdigits[i,...])\n",
    "    plt.clim(0,255)\n",
    "    plt.subplot(1,3,3)\n",
    "    plt.imshow(np.abs(digits[i,...] - tdigits[i,...]))\n",
    "    plt.clim(0,255)\n",
    "    plt.show()"
   ]
  },
  {
   "cell_type": "code",
   "execution_count": null,
   "metadata": {},
   "outputs": [],
   "source": [
    "print(digits[0,...])\n",
    "print(tdigits[0,...])\n",
    "print(epsilon[0,...])"
   ]
  },
  {
   "cell_type": "code",
   "execution_count": null,
   "metadata": {},
   "outputs": [],
   "source": [
    "\n",
    "from PIL import Image\n",
    "X = np.array(Image.open(\"kodim23.png\").convert(mode=\"RGB\"), dtype=np.uint8)\n",
    "plt.imshow(X)"
   ]
  },
  {
   "cell_type": "code",
   "execution_count": null,
   "metadata": {},
   "outputs": [],
   "source": [
    "epsilon = np.einsum('...k,k->...',\n",
    "                    np.random.binomial(1, 0.001, X.shape + (8,)),\n",
    "                    b).astype(np.uint8)\n",
    "Xhat = np.bitwise_xor(X, epsilon)"
   ]
  },
  {
   "cell_type": "code",
   "execution_count": null,
   "metadata": {},
   "outputs": [],
   "source": [
    "plt.subplot(1,2,1)\n",
    "plt.imshow(X)\n",
    "plt.subplot(1,2,2)\n",
    "plt.imshow(Xhat)"
   ]
  },
  {
   "cell_type": "code",
   "execution_count": null,
   "metadata": {},
   "outputs": [],
   "source": []
  }
 ],
 "metadata": {
  "kernelspec": {
   "display_name": "Python 3",
   "language": "python",
   "name": "python3"
  },
  "language_info": {
   "codemirror_mode": {
    "name": "ipython",
    "version": 3
   },
   "file_extension": ".py",
   "mimetype": "text/x-python",
   "name": "python",
   "nbconvert_exporter": "python",
   "pygments_lexer": "ipython3",
   "version": "3.7.6"
  }
 },
 "nbformat": 4,
 "nbformat_minor": 4
}
